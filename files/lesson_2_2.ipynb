{
 "cells": [
  {
   "cell_type": "markdown",
   "id": "87b591a2",
   "metadata": {},
   "source": [
    "# Classification by a Neural Network with Keras"
   ]
  },
  {
   "cell_type": "markdown",
   "id": "977d1716",
   "metadata": {},
   "source": [
    "## 1. Formulate or outline the problem:"
   ]
  },
  {
   "cell_type": "markdown",
   "id": "0378ead7",
   "metadata": {},
   "source": [
    "### Goal: to predict the species of penguin using features from the public dataset"
   ]
  },
  {
   "cell_type": "markdown",
   "id": "e70458d7",
   "metadata": {},
   "source": [
    "## 2. Identify inputs and outputs"
   ]
  },
  {
   "cell_type": "code",
   "execution_count": 1,
   "id": "2e21b279",
   "metadata": {},
   "outputs": [],
   "source": [
    "import seaborn as sns"
   ]
  },
  {
   "cell_type": "code",
   "execution_count": 2,
   "id": "752ea4c1",
   "metadata": {},
   "outputs": [],
   "source": [
    "penguins = sns.load_dataset('penguins')"
   ]
  },
  {
   "cell_type": "code",
   "execution_count": 3,
   "id": "6e2f5ca8",
   "metadata": {},
   "outputs": [
    {
     "data": {
      "text/plain": [
       "Index(['species', 'island', 'bill_length_mm', 'bill_depth_mm',\n",
       "       'flipper_length_mm', 'body_mass_g', 'sex'],\n",
       "      dtype='object')"
      ]
     },
     "execution_count": 3,
     "metadata": {},
     "output_type": "execute_result"
    }
   ],
   "source": [
    "penguins.columns"
   ]
  },
  {
   "cell_type": "markdown",
   "id": "08562ca1",
   "metadata": {},
   "source": [
    "## 3. Prepare Data"
   ]
  },
  {
   "cell_type": "code",
   "execution_count": 4,
   "id": "afb1963b",
   "metadata": {},
   "outputs": [],
   "source": [
    "penguins['species'] = penguins['species'].astype('category')"
   ]
  },
  {
   "cell_type": "code",
   "execution_count": 5,
   "id": "b9604152",
   "metadata": {},
   "outputs": [],
   "source": [
    "penguins_filtered = penguins.drop(columns=[\"island\", \"sex\"]).dropna()"
   ]
  },
  {
   "cell_type": "code",
   "execution_count": 6,
   "id": "9708d6a4",
   "metadata": {},
   "outputs": [],
   "source": [
    "penguins_features = penguins_filtered.drop(columns=['species'])"
   ]
  },
  {
   "cell_type": "code",
   "execution_count": 7,
   "id": "1e12779a",
   "metadata": {},
   "outputs": [],
   "source": [
    "import pandas as pd"
   ]
  },
  {
   "cell_type": "code",
   "execution_count": 8,
   "id": "32951d63",
   "metadata": {},
   "outputs": [],
   "source": [
    "target = pd.get_dummies(penguins_filtered['species'])"
   ]
  },
  {
   "cell_type": "code",
   "execution_count": 9,
   "id": "2782b838",
   "metadata": {},
   "outputs": [],
   "source": [
    "from sklearn.model_selection import train_test_split\n",
    "\n",
    "X_train, X_test, y_train, y_test = train_test_split(penguins_features, target, test_size=0.2, random_state=0, shuffle=True, stratify=target)"
   ]
  },
  {
   "cell_type": "markdown",
   "id": "3ec0b1b3",
   "metadata": {},
   "source": [
    "## 4. Build an architecture from scratch or choose a pretrained model"
   ]
  },
  {
   "cell_type": "code",
   "execution_count": 10,
   "id": "4166d2be",
   "metadata": {},
   "outputs": [
    {
     "name": "stderr",
     "output_type": "stream",
     "text": [
      "2022-12-06 09:32:43.869514: I tensorflow/core/platform/cpu_feature_guard.cc:193] This TensorFlow binary is optimized with oneAPI Deep Neural Network Library (oneDNN) to use the following CPU instructions in performance-critical operations:  SSE4.1 SSE4.2 AVX AVX2 AVX512F AVX512_VNNI FMA\n",
      "To enable them in other operations, rebuild TensorFlow with the appropriate compiler flags.\n"
     ]
    }
   ],
   "source": [
    "from tensorflow import keras"
   ]
  },
  {
   "cell_type": "code",
   "execution_count": 11,
   "id": "7e7d2175",
   "metadata": {},
   "outputs": [],
   "source": [
    "from numpy.random import seed\n",
    "seed(1)\n",
    "from tensorflow.random import set_seed\n",
    "set_seed(2)"
   ]
  },
  {
   "cell_type": "code",
   "execution_count": 12,
   "id": "c6aabae6",
   "metadata": {},
   "outputs": [],
   "source": [
    "inputs = keras.Input(shape=X_train.shape[1])"
   ]
  },
  {
   "cell_type": "code",
   "execution_count": 13,
   "id": "59c5a65d",
   "metadata": {},
   "outputs": [
    {
     "name": "stderr",
     "output_type": "stream",
     "text": [
      "2022-12-06 09:32:46.319902: I tensorflow/core/platform/cpu_feature_guard.cc:193] This TensorFlow binary is optimized with oneAPI Deep Neural Network Library (oneDNN) to use the following CPU instructions in performance-critical operations:  SSE4.1 SSE4.2 AVX AVX2 AVX512F AVX512_VNNI FMA\n",
      "To enable them in other operations, rebuild TensorFlow with the appropriate compiler flags.\n",
      "2022-12-06 09:32:46.322833: I tensorflow/core/common_runtime/process_util.cc:146] Creating new thread pool with default inter op setting: 2. Tune using inter_op_parallelism_threads for best performance.\n"
     ]
    }
   ],
   "source": [
    "hidden_layer = keras.layers.Dense(10, activation=\"relu\")(inputs)"
   ]
  },
  {
   "cell_type": "code",
   "execution_count": 14,
   "id": "1063bd02",
   "metadata": {},
   "outputs": [],
   "source": [
    "output_layer = keras.layers.Dense(3, activation=\"softmax\")(hidden_layer)"
   ]
  },
  {
   "cell_type": "code",
   "execution_count": 15,
   "id": "c4eac1de",
   "metadata": {},
   "outputs": [
    {
     "name": "stdout",
     "output_type": "stream",
     "text": [
      "Model: \"model\"\n",
      "_________________________________________________________________\n",
      " Layer (type)                Output Shape              Param #   \n",
      "=================================================================\n",
      " input_1 (InputLayer)        [(None, 4)]               0         \n",
      "                                                                 \n",
      " dense (Dense)               (None, 10)                50        \n",
      "                                                                 \n",
      " dense_1 (Dense)             (None, 3)                 33        \n",
      "                                                                 \n",
      "=================================================================\n",
      "Total params: 83\n",
      "Trainable params: 83\n",
      "Non-trainable params: 0\n",
      "_________________________________________________________________\n"
     ]
    }
   ],
   "source": [
    "model = keras.Model(inputs=inputs, outputs=output_layer)\n",
    "model.summary()"
   ]
  },
  {
   "cell_type": "markdown",
   "id": "d5b11c4f",
   "metadata": {},
   "source": [
    "## 5. Choose a loss function and optimizer"
   ]
  },
  {
   "cell_type": "code",
   "execution_count": 16,
   "id": "9594be31",
   "metadata": {},
   "outputs": [],
   "source": [
    "model.compile(loss = keras.losses.CategoricalCrossentropy(),optimizer = 'adam')"
   ]
  },
  {
   "cell_type": "markdown",
   "id": "841e5fdb",
   "metadata": {},
   "source": [
    "## 6. Train model"
   ]
  },
  {
   "cell_type": "code",
   "execution_count": 17,
   "id": "33defc41",
   "metadata": {},
   "outputs": [
    {
     "name": "stdout",
     "output_type": "stream",
     "text": [
      "Epoch 1/100\n",
      "9/9 [==============================] - 1s 20ms/step - loss: 820.6429\n",
      "Epoch 2/100\n",
      "9/9 [==============================] - 0s 37ms/step - loss: 697.5318\n",
      "Epoch 3/100\n",
      "9/9 [==============================] - 0s 40ms/step - loss: 609.1370\n",
      "Epoch 4/100\n",
      "9/9 [==============================] - 0s 32ms/step - loss: 579.1840\n",
      "Epoch 5/100\n",
      "9/9 [==============================] - 0s 43ms/step - loss: 547.1120\n",
      "Epoch 6/100\n",
      "9/9 [==============================] - 0s 45ms/step - loss: 519.7590\n",
      "Epoch 7/100\n",
      "9/9 [==============================] - 1s 69ms/step - loss: 496.0385\n",
      "Epoch 8/100\n",
      "9/9 [==============================] - 0s 52ms/step - loss: 470.9467\n",
      "Epoch 9/100\n",
      "9/9 [==============================] - 0s 32ms/step - loss: 447.3922\n",
      "Epoch 10/100\n",
      "9/9 [==============================] - 0s 28ms/step - loss: 423.5393\n",
      "Epoch 11/100\n",
      "9/9 [==============================] - 0s 20ms/step - loss: 398.2708\n",
      "Epoch 12/100\n",
      "9/9 [==============================] - 0s 40ms/step - loss: 374.4082\n",
      "Epoch 13/100\n",
      "9/9 [==============================] - 0s 29ms/step - loss: 350.6952\n",
      "Epoch 14/100\n",
      "9/9 [==============================] - 0s 20ms/step - loss: 331.7038\n",
      "Epoch 15/100\n",
      "9/9 [==============================] - 0s 24ms/step - loss: 313.6483\n",
      "Epoch 16/100\n",
      "9/9 [==============================] - 0s 28ms/step - loss: 295.4247\n",
      "Epoch 17/100\n",
      "9/9 [==============================] - 0s 15ms/step - loss: 278.1554\n",
      "Epoch 18/100\n",
      "9/9 [==============================] - 0s 25ms/step - loss: 261.5642\n",
      "Epoch 19/100\n",
      "9/9 [==============================] - 0s 23ms/step - loss: 242.8393\n",
      "Epoch 20/100\n",
      "9/9 [==============================] - 0s 21ms/step - loss: 224.2371\n",
      "Epoch 21/100\n",
      "9/9 [==============================] - 0s 52ms/step - loss: 207.9432\n",
      "Epoch 22/100\n",
      "9/9 [==============================] - 0s 43ms/step - loss: 190.6589\n",
      "Epoch 23/100\n",
      "9/9 [==============================] - 0s 27ms/step - loss: 174.8540\n",
      "Epoch 24/100\n",
      "9/9 [==============================] - 0s 14ms/step - loss: 157.6400\n",
      "Epoch 25/100\n",
      "9/9 [==============================] - 0s 26ms/step - loss: 141.3699\n",
      "Epoch 26/100\n",
      "9/9 [==============================] - 0s 24ms/step - loss: 125.2683\n",
      "Epoch 27/100\n",
      "9/9 [==============================] - 0s 29ms/step - loss: 109.3484\n",
      "Epoch 28/100\n",
      "9/9 [==============================] - 0s 31ms/step - loss: 92.5722\n",
      "Epoch 29/100\n",
      "9/9 [==============================] - 0s 26ms/step - loss: 75.4108\n",
      "Epoch 30/100\n",
      "9/9 [==============================] - 0s 18ms/step - loss: 59.5275\n",
      "Epoch 31/100\n",
      "9/9 [==============================] - 0s 31ms/step - loss: 42.4644\n",
      "Epoch 32/100\n",
      "9/9 [==============================] - 0s 38ms/step - loss: 25.3251\n",
      "Epoch 33/100\n",
      "9/9 [==============================] - 0s 23ms/step - loss: 10.3904\n",
      "Epoch 34/100\n",
      "9/9 [==============================] - 0s 18ms/step - loss: 6.4747\n",
      "Epoch 35/100\n",
      "9/9 [==============================] - 0s 26ms/step - loss: 6.4983\n",
      "Epoch 36/100\n",
      "9/9 [==============================] - 0s 37ms/step - loss: 3.9403\n",
      "Epoch 37/100\n",
      "9/9 [==============================] - 0s 41ms/step - loss: 3.6157\n",
      "Epoch 38/100\n",
      "9/9 [==============================] - 0s 41ms/step - loss: 2.9110\n",
      "Epoch 39/100\n",
      "9/9 [==============================] - 0s 26ms/step - loss: 2.8862\n",
      "Epoch 40/100\n",
      "9/9 [==============================] - 0s 42ms/step - loss: 2.5173\n",
      "Epoch 41/100\n",
      "9/9 [==============================] - 0s 49ms/step - loss: 2.3587\n",
      "Epoch 42/100\n",
      "9/9 [==============================] - 0s 28ms/step - loss: 1.9374\n",
      "Epoch 43/100\n",
      "9/9 [==============================] - 0s 29ms/step - loss: 2.5152\n",
      "Epoch 44/100\n",
      "9/9 [==============================] - 0s 24ms/step - loss: 1.8570\n",
      "Epoch 45/100\n",
      "9/9 [==============================] - 0s 26ms/step - loss: 2.1255\n",
      "Epoch 46/100\n",
      "9/9 [==============================] - 0s 20ms/step - loss: 2.5746\n",
      "Epoch 47/100\n",
      "9/9 [==============================] - 0s 40ms/step - loss: 2.1804\n",
      "Epoch 48/100\n",
      "9/9 [==============================] - 0s 46ms/step - loss: 1.8515\n",
      "Epoch 49/100\n",
      "9/9 [==============================] - 0s 29ms/step - loss: 2.3379\n",
      "Epoch 50/100\n",
      "9/9 [==============================] - 0s 30ms/step - loss: 1.6901\n",
      "Epoch 51/100\n",
      "9/9 [==============================] - 0s 34ms/step - loss: 1.5544\n",
      "Epoch 52/100\n",
      "9/9 [==============================] - 0s 27ms/step - loss: 1.3349\n",
      "Epoch 53/100\n",
      "9/9 [==============================] - 0s 23ms/step - loss: 1.4027\n",
      "Epoch 54/100\n",
      "9/9 [==============================] - 0s 21ms/step - loss: 1.3410\n",
      "Epoch 55/100\n",
      "9/9 [==============================] - 0s 16ms/step - loss: 1.1143\n",
      "Epoch 56/100\n",
      "9/9 [==============================] - 0s 18ms/step - loss: 1.0363\n",
      "Epoch 57/100\n",
      "9/9 [==============================] - 0s 28ms/step - loss: 1.0667\n",
      "Epoch 58/100\n",
      "9/9 [==============================] - 0s 36ms/step - loss: 0.9937\n",
      "Epoch 59/100\n",
      "9/9 [==============================] - 0s 15ms/step - loss: 1.0625\n",
      "Epoch 60/100\n",
      "9/9 [==============================] - 0s 18ms/step - loss: 1.0705\n",
      "Epoch 61/100\n",
      "9/9 [==============================] - 0s 16ms/step - loss: 1.0532\n",
      "Epoch 62/100\n",
      "9/9 [==============================] - 0s 16ms/step - loss: 1.1208\n",
      "Epoch 63/100\n",
      "9/9 [==============================] - 0s 15ms/step - loss: 0.9263\n",
      "Epoch 64/100\n",
      "9/9 [==============================] - 0s 18ms/step - loss: 0.8797\n",
      "Epoch 65/100\n",
      "9/9 [==============================] - 0s 18ms/step - loss: 0.7122\n",
      "Epoch 66/100\n",
      "9/9 [==============================] - 0s 24ms/step - loss: 0.7482\n",
      "Epoch 67/100\n",
      "9/9 [==============================] - 0s 20ms/step - loss: 0.7704\n",
      "Epoch 68/100\n",
      "9/9 [==============================] - 0s 29ms/step - loss: 0.7017\n",
      "Epoch 69/100\n",
      "9/9 [==============================] - 0s 17ms/step - loss: 0.7033\n",
      "Epoch 70/100\n",
      "9/9 [==============================] - 0s 16ms/step - loss: 0.7792\n",
      "Epoch 71/100\n",
      "9/9 [==============================] - 0s 19ms/step - loss: 0.6464\n",
      "Epoch 72/100\n",
      "9/9 [==============================] - 0s 11ms/step - loss: 0.6419\n",
      "Epoch 73/100\n",
      "9/9 [==============================] - 0s 13ms/step - loss: 0.5441\n",
      "Epoch 74/100\n",
      "9/9 [==============================] - 0s 29ms/step - loss: 0.6576\n",
      "Epoch 75/100\n",
      "9/9 [==============================] - 0s 22ms/step - loss: 0.5969\n",
      "Epoch 76/100\n",
      "9/9 [==============================] - 0s 27ms/step - loss: 0.6977\n",
      "Epoch 77/100\n",
      "9/9 [==============================] - 0s 25ms/step - loss: 0.5996\n",
      "Epoch 78/100\n",
      "9/9 [==============================] - 0s 16ms/step - loss: 0.7570\n",
      "Epoch 79/100\n",
      "9/9 [==============================] - 0s 18ms/step - loss: 0.7318\n",
      "Epoch 80/100\n",
      "9/9 [==============================] - 0s 25ms/step - loss: 0.4570\n",
      "Epoch 81/100\n",
      "9/9 [==============================] - 0s 22ms/step - loss: 0.4541\n",
      "Epoch 82/100\n",
      "9/9 [==============================] - 0s 12ms/step - loss: 0.4465\n",
      "Epoch 83/100\n",
      "9/9 [==============================] - 0s 22ms/step - loss: 0.4386\n",
      "Epoch 84/100\n",
      "9/9 [==============================] - 0s 12ms/step - loss: 0.5495\n",
      "Epoch 85/100\n",
      "9/9 [==============================] - 0s 17ms/step - loss: 0.5555\n",
      "Epoch 86/100\n",
      "9/9 [==============================] - 0s 16ms/step - loss: 0.5190\n",
      "Epoch 87/100\n",
      "9/9 [==============================] - 0s 17ms/step - loss: 0.4828\n",
      "Epoch 88/100\n",
      "9/9 [==============================] - 0s 17ms/step - loss: 0.3767\n",
      "Epoch 89/100\n",
      "9/9 [==============================] - 0s 8ms/step - loss: 0.4079\n",
      "Epoch 90/100\n",
      "9/9 [==============================] - 0s 19ms/step - loss: 0.3843\n",
      "Epoch 91/100\n",
      "9/9 [==============================] - 0s 17ms/step - loss: 0.3995\n",
      "Epoch 92/100\n",
      "9/9 [==============================] - 0s 15ms/step - loss: 0.4476\n",
      "Epoch 93/100\n",
      "9/9 [==============================] - 0s 5ms/step - loss: 0.4274\n",
      "Epoch 94/100\n",
      "9/9 [==============================] - 0s 15ms/step - loss: 0.3898\n",
      "Epoch 95/100\n",
      "9/9 [==============================] - 0s 22ms/step - loss: 0.4230\n",
      "Epoch 96/100\n",
      "9/9 [==============================] - 0s 20ms/step - loss: 0.3402\n",
      "Epoch 97/100\n",
      "9/9 [==============================] - 0s 27ms/step - loss: 0.3495\n",
      "Epoch 98/100\n",
      "9/9 [==============================] - 0s 17ms/step - loss: 0.3338\n",
      "Epoch 99/100\n",
      "9/9 [==============================] - 0s 24ms/step - loss: 0.3790\n",
      "Epoch 100/100\n",
      "9/9 [==============================] - 0s 27ms/step - loss: 0.3601\n"
     ]
    }
   ],
   "source": [
    "history = model.fit(X_train, y_train, epochs=100)"
   ]
  },
  {
   "cell_type": "code",
   "execution_count": 18,
   "id": "32b8be29",
   "metadata": {},
   "outputs": [
    {
     "data": {
      "text/plain": [
       "<AxesSubplot:>"
      ]
     },
     "execution_count": 18,
     "metadata": {},
     "output_type": "execute_result"
    },
    {
     "data": {
      "image/png": "[encoded data removed]",
      "text/plain": [
       "<Figure size 640x480 with 1 Axes>"
      ]
     },
     "metadata": {},
     "output_type": "display_data"
    }
   ],
   "source": [
    "sns.lineplot(x=history.epoch, y=history.history['loss'])"
   ]
  },
  {
   "cell_type": "markdown",
   "id": "d28f8787",
   "metadata": {},
   "source": [
    "## 7. Perform a prediction/classification"
   ]
  },
  {
   "cell_type": "code",
   "execution_count": 20,
   "id": "449a1e81",
   "metadata": {},
   "outputs": [
    {
     "name": "stdout",
     "output_type": "stream",
     "text": [
      "3/3 [==============================] - 0s 12ms/step\n"
     ]
    },
    {
     "data": {
      "text/html": [
       "<div>\n",
       "<style scoped>\n",
       "    .dataframe tbody tr th:only-of-type {\n",
       "        vertical-align: middle;\n",
       "    }\n",
       "\n",
       "    .dataframe tbody tr th {\n",
       "        vertical-align: top;\n",
       "    }\n",
       "\n",
       "    .dataframe thead th {\n",
       "        text-align: right;\n",
       "    }\n",
       "</style>\n",
       "<table border=\"1\" class=\"dataframe\">\n",
       "  <thead>\n",
       "    <tr style=\"text-align: right;\">\n",
       "      <th></th>\n",
       "      <th>Adelie</th>\n",
       "      <th>Chinstrap</th>\n",
       "      <th>Gentoo</th>\n",
       "    </tr>\n",
       "  </thead>\n",
       "  <tbody>\n",
       "    <tr>\n",
       "      <th>0</th>\n",
       "      <td>0.912190</td>\n",
       "      <td>0.013751</td>\n",
       "      <td>0.074059</td>\n",
       "    </tr>\n",
       "    <tr>\n",
       "      <th>1</th>\n",
       "      <td>0.882857</td>\n",
       "      <td>0.074007</td>\n",
       "      <td>0.043136</td>\n",
       "    </tr>\n",
       "    <tr>\n",
       "      <th>2</th>\n",
       "      <td>0.937605</td>\n",
       "      <td>0.022637</td>\n",
       "      <td>0.039758</td>\n",
       "    </tr>\n",
       "    <tr>\n",
       "      <th>3</th>\n",
       "      <td>0.164854</td>\n",
       "      <td>0.001824</td>\n",
       "      <td>0.833323</td>\n",
       "    </tr>\n",
       "    <tr>\n",
       "      <th>4</th>\n",
       "      <td>0.519199</td>\n",
       "      <td>0.479186</td>\n",
       "      <td>0.001615</td>\n",
       "    </tr>\n",
       "    <tr>\n",
       "      <th>...</th>\n",
       "      <td>...</td>\n",
       "      <td>...</td>\n",
       "      <td>...</td>\n",
       "    </tr>\n",
       "    <tr>\n",
       "      <th>64</th>\n",
       "      <td>0.700954</td>\n",
       "      <td>0.262584</td>\n",
       "      <td>0.036462</td>\n",
       "    </tr>\n",
       "    <tr>\n",
       "      <th>65</th>\n",
       "      <td>0.752485</td>\n",
       "      <td>0.056536</td>\n",
       "      <td>0.190979</td>\n",
       "    </tr>\n",
       "    <tr>\n",
       "      <th>66</th>\n",
       "      <td>0.295791</td>\n",
       "      <td>0.703398</td>\n",
       "      <td>0.000811</td>\n",
       "    </tr>\n",
       "    <tr>\n",
       "      <th>67</th>\n",
       "      <td>0.397050</td>\n",
       "      <td>0.005304</td>\n",
       "      <td>0.597646</td>\n",
       "    </tr>\n",
       "    <tr>\n",
       "      <th>68</th>\n",
       "      <td>0.178924</td>\n",
       "      <td>0.000378</td>\n",
       "      <td>0.820698</td>\n",
       "    </tr>\n",
       "  </tbody>\n",
       "</table>\n",
       "<p>69 rows × 3 columns</p>\n",
       "</div>"
      ],
      "text/plain": [
       "      Adelie  Chinstrap    Gentoo\n",
       "0   0.912190   0.013751  0.074059\n",
       "1   0.882857   0.074007  0.043136\n",
       "2   0.937605   0.022637  0.039758\n",
       "3   0.164854   0.001824  0.833323\n",
       "4   0.519199   0.479186  0.001615\n",
       "..       ...        ...       ...\n",
       "64  0.700954   0.262584  0.036462\n",
       "65  0.752485   0.056536  0.190979\n",
       "66  0.295791   0.703398  0.000811\n",
       "67  0.397050   0.005304  0.597646\n",
       "68  0.178924   0.000378  0.820698\n",
       "\n",
       "[69 rows x 3 columns]"
      ]
     },
     "execution_count": 20,
     "metadata": {},
     "output_type": "execute_result"
    }
   ],
   "source": [
    "y_pred = model.predict(X_test)\n",
    "prediction = pd.DataFrame(y_pred, columns=target.columns)\n",
    "prediction"
   ]
  },
  {
   "cell_type": "code",
   "execution_count": 21,
   "id": "3211f08a",
   "metadata": {},
   "outputs": [
    {
     "data": {
      "text/plain": [
       "0        Adelie\n",
       "1        Adelie\n",
       "2        Adelie\n",
       "3        Gentoo\n",
       "4        Adelie\n",
       "        ...    \n",
       "64       Adelie\n",
       "65       Adelie\n",
       "66    Chinstrap\n",
       "67       Gentoo\n",
       "68       Gentoo\n",
       "Length: 69, dtype: object"
      ]
     },
     "execution_count": 21,
     "metadata": {},
     "output_type": "execute_result"
    }
   ],
   "source": [
    "predicted_species = prediction.idxmax(axis='columns')\n",
    "predicted_species"
   ]
  },
  {
   "cell_type": "markdown",
   "id": "08dbda5d",
   "metadata": {},
   "source": [
    "## 8. Measure performance"
   ]
  },
  {
   "cell_type": "code",
   "execution_count": 22,
   "id": "d132ea64",
   "metadata": {},
   "outputs": [
    {
     "name": "stdout",
     "output_type": "stream",
     "text": [
      "[[30  0  0]\n",
      " [ 4 10  0]\n",
      " [ 2  0 23]]\n"
     ]
    }
   ],
   "source": [
    "from sklearn.metrics import confusion_matrix\n",
    "\n",
    "true_species = y_test.idxmax(axis=\"columns\")\n",
    "\n",
    "matrix = confusion_matrix(true_species, predicted_species)\n",
    "print(matrix)"
   ]
  },
  {
   "cell_type": "code",
   "execution_count": 25,
   "id": "d8841048",
   "metadata": {},
   "outputs": [
    {
     "data": {
      "text/plain": [
       "<AxesSubplot:xlabel='Predicted Label', ylabel='True Label'>"
      ]
     },
     "execution_count": 25,
     "metadata": {},
     "output_type": "execute_result"
    },
    {
     "data": {
      "image/png": "[encoded data removed]",
      "text/plain": [
       "<Figure size 640x480 with 2 Axes>"
      ]
     },
     "metadata": {},
     "output_type": "display_data"
    }
   ],
   "source": [
    "#convert to a pandas dataframe\n",
    "confusion_df = pd.DataFrame(matrix, index=y_test.columns.values, columns=y_test.columns.values)\n",
    "\n",
    "#Set the names of the x and y axis\n",
    "confusion_df.index.name = 'True Label'\n",
    "confusion_df.columns.name = 'Predicted Label'\n",
    "\n",
    "sns.heatmap(confusion_df, annot=True)"
   ]
  },
  {
   "cell_type": "markdown",
   "id": "7a540b87",
   "metadata": {},
   "source": [
    "## 9. Tune the model/hyperparameters"
   ]
  },
  {
   "cell_type": "markdown",
   "id": "7eed4135",
   "metadata": {},
   "source": [
    "Performance metric:\n",
    "\n",
    "F1 Score = 2 * Precision * Recall/(Precision+Recall)\n",
    "\n",
    "Precision = 'True Positives'/'True Positives' + 'False Positives'\n",
    "\n",
    "Recall = 'True Positives'/'True Positives' + 'False Negatives'\n"
   ]
  },
  {
   "cell_type": "code",
   "execution_count": 29,
   "id": "dd628155",
   "metadata": {},
   "outputs": [
    {
     "data": {
      "text/plain": [
       "0.9090909090909091"
      ]
     },
     "execution_count": 29,
     "metadata": {},
     "output_type": "execute_result"
    }
   ],
   "source": [
    "P_adelie = 30/(30+6)\n",
    "R_adelie = 30/(30+0)\n",
    "F1_adelie = 2*P_adelie*R_adelie/(P_adelie+R_adelie)\n",
    "F1_adelie"
   ]
  },
  {
   "cell_type": "markdown",
   "id": "60642a20",
   "metadata": {},
   "source": [
    "## Save/share model"
   ]
  },
  {
   "cell_type": "code",
   "execution_count": 30,
   "id": "56043dad",
   "metadata": {},
   "outputs": [
    {
     "name": "stdout",
     "output_type": "stream",
     "text": [
      "INFO:tensorflow:Assets written to: my_first_model/assets\n"
     ]
    }
   ],
   "source": [
    "model.save('my_first_model')"
   ]
  },
  {
   "cell_type": "code",
   "execution_count": 31,
   "id": "baaf30ed",
   "metadata": {},
   "outputs": [],
   "source": [
    "pretrained_model = keras.models.load_model('my_first_model')"
   ]
  },
  {
   "cell_type": "code",
   "execution_count": 32,
   "id": "7ba6965c",
   "metadata": {},
   "outputs": [
    {
     "name": "stdout",
     "output_type": "stream",
     "text": [
      "3/3 [==============================] - 0s 18ms/step\n"
     ]
    }
   ],
   "source": [
    "y_pretrained_pred = pretrained_model.predict(X_test)\n",
    "pretrained_prediction = pd.DataFrame(y_pretrained_pred, columns=target.columns.values)"
   ]
  },
  {
   "cell_type": "code",
   "execution_count": 33,
   "id": "eca572e9",
   "metadata": {},
   "outputs": [
    {
     "data": {
      "text/plain": [
       "0        Adelie\n",
       "1        Adelie\n",
       "2        Adelie\n",
       "3        Gentoo\n",
       "4        Adelie\n",
       "        ...    \n",
       "64       Adelie\n",
       "65       Adelie\n",
       "66    Chinstrap\n",
       "67       Gentoo\n",
       "68       Gentoo\n",
       "Length: 69, dtype: object"
      ]
     },
     "execution_count": 33,
     "metadata": {},
     "output_type": "execute_result"
    }
   ],
   "source": [
    "pretrained_predicted_species = pretrained_prediction.idxmax(axis='columns')\n",
    "pretrained_predicted_species"
   ]
  },
  {
   "cell_type": "code",
   "execution_count": null,
   "id": "6298bc6e",
   "metadata": {},
   "outputs": [],
   "source": []
  }
 ],
 "metadata": {
  "kernelspec": {
   "display_name": "Python 3 (ipykernel)",
   "language": "python",
   "name": "python3"
  },
  "language_info": {
   "codemirror_mode": {
    "name": "ipython",
    "version": 3
   },
   "file_extension": ".py",
   "mimetype": "text/x-python",
   "name": "python",
   "nbconvert_exporter": "python",
   "pygments_lexer": "ipython3",
   "version": "3.10.8"
  }
 },
 "nbformat": 4,
 "nbformat_minor": 5
}
