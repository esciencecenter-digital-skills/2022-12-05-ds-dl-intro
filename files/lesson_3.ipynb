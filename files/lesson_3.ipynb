{
 "cells": [
  {
   "cell_type": "markdown",
   "id": "7ee05862-cfc0-4747-b64d-bcada454a765",
   "metadata": {},
   "source": [
    "# Monitor the training process"
   ]
  },
  {
   "cell_type": "markdown",
   "id": "c796b18e-2897-4ef9-b7ef-ccd825917b9c",
   "metadata": {},
   "source": [
    "# 1. Outline the problem: weather prediction"
   ]
  },
  {
   "cell_type": "markdown",
   "id": "cf245166-95af-44bb-8977-ed2b6722b1ef",
   "metadata": {},
   "source": [
    "### Goal: predict the tomorrow's sunshine in BASEL city "
   ]
  },
  {
   "cell_type": "markdown",
   "id": "b7f7b60b-3cff-4c6c-a859-11ec55897bef",
   "metadata": {},
   "source": [
    "# 2. Identify inputs and outputs (data exploration)"
   ]
  },
  {
   "cell_type": "code",
   "execution_count": 2,
   "id": "9ad1d7d7-a5c1-42fa-95aa-12ebe1d64a34",
   "metadata": {},
   "outputs": [],
   "source": [
    "# import dataset\n",
    "\n",
    "import pandas as pd\n"
   ]
  },
  {
   "cell_type": "code",
   "execution_count": 3,
   "id": "3fbd4f82-3edc-4b8c-b202-3ec34de414bf",
   "metadata": {},
   "outputs": [],
   "source": [
    "filename_data = 'weather_prediction_dataset_light.csv'"
   ]
  },
  {
   "cell_type": "code",
   "execution_count": 4,
   "id": "cf65b4d6-2016-4f3b-9bd5-6124d6a0d914",
   "metadata": {},
   "outputs": [],
   "source": [
    "data = pd.read_csv(filename_data)"
   ]
  },
  {
   "cell_type": "code",
   "execution_count": 5,
   "id": "b7a435ce-98c6-4f00-993b-b0bba76e833e",
   "metadata": {},
   "outputs": [
    {
     "data": {
      "text/html": [
       "<div>\n",
       "<style scoped>\n",
       "    .dataframe tbody tr th:only-of-type {\n",
       "        vertical-align: middle;\n",
       "    }\n",
       "\n",
       "    .dataframe tbody tr th {\n",
       "        vertical-align: top;\n",
       "    }\n",
       "\n",
       "    .dataframe thead th {\n",
       "        text-align: right;\n",
       "    }\n",
       "</style>\n",
       "<table border=\"1\" class=\"dataframe\">\n",
       "  <thead>\n",
       "    <tr style=\"text-align: right;\">\n",
       "      <th></th>\n",
       "      <th>DATE</th>\n",
       "      <th>MONTH</th>\n",
       "      <th>BASEL_cloud_cover</th>\n",
       "      <th>BASEL_humidity</th>\n",
       "      <th>BASEL_pressure</th>\n",
       "      <th>BASEL_global_radiation</th>\n",
       "      <th>BASEL_precipitation</th>\n",
       "      <th>BASEL_sunshine</th>\n",
       "      <th>BASEL_temp_mean</th>\n",
       "      <th>BASEL_temp_min</th>\n",
       "      <th>...</th>\n",
       "      <th>SONNBLICK_temp_mean</th>\n",
       "      <th>SONNBLICK_temp_min</th>\n",
       "      <th>SONNBLICK_temp_max</th>\n",
       "      <th>TOURS_humidity</th>\n",
       "      <th>TOURS_pressure</th>\n",
       "      <th>TOURS_global_radiation</th>\n",
       "      <th>TOURS_precipitation</th>\n",
       "      <th>TOURS_temp_mean</th>\n",
       "      <th>TOURS_temp_min</th>\n",
       "      <th>TOURS_temp_max</th>\n",
       "    </tr>\n",
       "  </thead>\n",
       "  <tbody>\n",
       "    <tr>\n",
       "      <th>0</th>\n",
       "      <td>20000101</td>\n",
       "      <td>1</td>\n",
       "      <td>8</td>\n",
       "      <td>0.89</td>\n",
       "      <td>1.0286</td>\n",
       "      <td>0.20</td>\n",
       "      <td>0.03</td>\n",
       "      <td>0.0</td>\n",
       "      <td>2.9</td>\n",
       "      <td>1.6</td>\n",
       "      <td>...</td>\n",
       "      <td>-15.2</td>\n",
       "      <td>-17.0</td>\n",
       "      <td>-13.4</td>\n",
       "      <td>0.97</td>\n",
       "      <td>1.0275</td>\n",
       "      <td>0.25</td>\n",
       "      <td>0.04</td>\n",
       "      <td>8.5</td>\n",
       "      <td>7.2</td>\n",
       "      <td>9.8</td>\n",
       "    </tr>\n",
       "    <tr>\n",
       "      <th>1</th>\n",
       "      <td>20000102</td>\n",
       "      <td>1</td>\n",
       "      <td>8</td>\n",
       "      <td>0.87</td>\n",
       "      <td>1.0318</td>\n",
       "      <td>0.25</td>\n",
       "      <td>0.00</td>\n",
       "      <td>0.0</td>\n",
       "      <td>3.6</td>\n",
       "      <td>2.7</td>\n",
       "      <td>...</td>\n",
       "      <td>-13.7</td>\n",
       "      <td>-15.0</td>\n",
       "      <td>-12.3</td>\n",
       "      <td>0.99</td>\n",
       "      <td>1.0293</td>\n",
       "      <td>0.17</td>\n",
       "      <td>0.16</td>\n",
       "      <td>7.9</td>\n",
       "      <td>6.6</td>\n",
       "      <td>9.2</td>\n",
       "    </tr>\n",
       "    <tr>\n",
       "      <th>2</th>\n",
       "      <td>20000103</td>\n",
       "      <td>1</td>\n",
       "      <td>5</td>\n",
       "      <td>0.81</td>\n",
       "      <td>1.0314</td>\n",
       "      <td>0.50</td>\n",
       "      <td>0.00</td>\n",
       "      <td>3.7</td>\n",
       "      <td>2.2</td>\n",
       "      <td>0.1</td>\n",
       "      <td>...</td>\n",
       "      <td>-9.2</td>\n",
       "      <td>-12.5</td>\n",
       "      <td>-5.8</td>\n",
       "      <td>0.91</td>\n",
       "      <td>1.0267</td>\n",
       "      <td>0.27</td>\n",
       "      <td>0.00</td>\n",
       "      <td>8.1</td>\n",
       "      <td>6.6</td>\n",
       "      <td>9.6</td>\n",
       "    </tr>\n",
       "    <tr>\n",
       "      <th>3</th>\n",
       "      <td>20000104</td>\n",
       "      <td>1</td>\n",
       "      <td>7</td>\n",
       "      <td>0.79</td>\n",
       "      <td>1.0262</td>\n",
       "      <td>0.63</td>\n",
       "      <td>0.35</td>\n",
       "      <td>6.9</td>\n",
       "      <td>3.9</td>\n",
       "      <td>0.5</td>\n",
       "      <td>...</td>\n",
       "      <td>-5.6</td>\n",
       "      <td>-7.0</td>\n",
       "      <td>-4.2</td>\n",
       "      <td>0.95</td>\n",
       "      <td>1.0222</td>\n",
       "      <td>0.11</td>\n",
       "      <td>0.44</td>\n",
       "      <td>8.6</td>\n",
       "      <td>6.4</td>\n",
       "      <td>10.8</td>\n",
       "    </tr>\n",
       "    <tr>\n",
       "      <th>4</th>\n",
       "      <td>20000105</td>\n",
       "      <td>1</td>\n",
       "      <td>5</td>\n",
       "      <td>0.90</td>\n",
       "      <td>1.0246</td>\n",
       "      <td>0.51</td>\n",
       "      <td>0.07</td>\n",
       "      <td>3.7</td>\n",
       "      <td>6.0</td>\n",
       "      <td>3.8</td>\n",
       "      <td>...</td>\n",
       "      <td>-7.6</td>\n",
       "      <td>-9.4</td>\n",
       "      <td>-5.8</td>\n",
       "      <td>0.95</td>\n",
       "      <td>1.0209</td>\n",
       "      <td>0.39</td>\n",
       "      <td>0.04</td>\n",
       "      <td>8.0</td>\n",
       "      <td>6.4</td>\n",
       "      <td>9.5</td>\n",
       "    </tr>\n",
       "  </tbody>\n",
       "</table>\n",
       "<p>5 rows × 91 columns</p>\n",
       "</div>"
      ],
      "text/plain": [
       "       DATE  MONTH  BASEL_cloud_cover  BASEL_humidity  BASEL_pressure  \\\n",
       "0  20000101      1                  8            0.89          1.0286   \n",
       "1  20000102      1                  8            0.87          1.0318   \n",
       "2  20000103      1                  5            0.81          1.0314   \n",
       "3  20000104      1                  7            0.79          1.0262   \n",
       "4  20000105      1                  5            0.90          1.0246   \n",
       "\n",
       "   BASEL_global_radiation  BASEL_precipitation  BASEL_sunshine  \\\n",
       "0                    0.20                 0.03             0.0   \n",
       "1                    0.25                 0.00             0.0   \n",
       "2                    0.50                 0.00             3.7   \n",
       "3                    0.63                 0.35             6.9   \n",
       "4                    0.51                 0.07             3.7   \n",
       "\n",
       "   BASEL_temp_mean  BASEL_temp_min  ...  SONNBLICK_temp_mean  \\\n",
       "0              2.9             1.6  ...                -15.2   \n",
       "1              3.6             2.7  ...                -13.7   \n",
       "2              2.2             0.1  ...                 -9.2   \n",
       "3              3.9             0.5  ...                 -5.6   \n",
       "4              6.0             3.8  ...                 -7.6   \n",
       "\n",
       "   SONNBLICK_temp_min  SONNBLICK_temp_max  TOURS_humidity  TOURS_pressure  \\\n",
       "0               -17.0               -13.4            0.97          1.0275   \n",
       "1               -15.0               -12.3            0.99          1.0293   \n",
       "2               -12.5                -5.8            0.91          1.0267   \n",
       "3                -7.0                -4.2            0.95          1.0222   \n",
       "4                -9.4                -5.8            0.95          1.0209   \n",
       "\n",
       "   TOURS_global_radiation  TOURS_precipitation  TOURS_temp_mean  \\\n",
       "0                    0.25                 0.04              8.5   \n",
       "1                    0.17                 0.16              7.9   \n",
       "2                    0.27                 0.00              8.1   \n",
       "3                    0.11                 0.44              8.6   \n",
       "4                    0.39                 0.04              8.0   \n",
       "\n",
       "   TOURS_temp_min  TOURS_temp_max  \n",
       "0             7.2             9.8  \n",
       "1             6.6             9.2  \n",
       "2             6.6             9.6  \n",
       "3             6.4            10.8  \n",
       "4             6.4             9.5  \n",
       "\n",
       "[5 rows x 91 columns]"
      ]
     },
     "execution_count": 5,
     "metadata": {},
     "output_type": "execute_result"
    }
   ],
   "source": [
    "data.head()"
   ]
  },
  {
   "cell_type": "code",
   "execution_count": 6,
   "id": "841009e3-ed3f-4d8d-843d-ccf341bbaaa2",
   "metadata": {},
   "outputs": [],
   "source": [
    "# data = pd.read_csv(\"https://zenodo.org/record/5071376/files/weather_prediction_dataset_light.csv?download=1\")"
   ]
  },
  {
   "cell_type": "code",
   "execution_count": 7,
   "id": "ae3aeff7-bd44-45e8-8252-bdd22bc1a3ec",
   "metadata": {},
   "outputs": [
    {
     "data": {
      "text/html": [
       "<div>\n",
       "<style scoped>\n",
       "    .dataframe tbody tr th:only-of-type {\n",
       "        vertical-align: middle;\n",
       "    }\n",
       "\n",
       "    .dataframe tbody tr th {\n",
       "        vertical-align: top;\n",
       "    }\n",
       "\n",
       "    .dataframe thead th {\n",
       "        text-align: right;\n",
       "    }\n",
       "</style>\n",
       "<table border=\"1\" class=\"dataframe\">\n",
       "  <thead>\n",
       "    <tr style=\"text-align: right;\">\n",
       "      <th></th>\n",
       "      <th>DATE</th>\n",
       "      <th>MONTH</th>\n",
       "      <th>BASEL_cloud_cover</th>\n",
       "      <th>BASEL_humidity</th>\n",
       "      <th>BASEL_pressure</th>\n",
       "      <th>BASEL_global_radiation</th>\n",
       "      <th>BASEL_precipitation</th>\n",
       "      <th>BASEL_sunshine</th>\n",
       "      <th>BASEL_temp_mean</th>\n",
       "      <th>BASEL_temp_min</th>\n",
       "      <th>...</th>\n",
       "      <th>SONNBLICK_temp_mean</th>\n",
       "      <th>SONNBLICK_temp_min</th>\n",
       "      <th>SONNBLICK_temp_max</th>\n",
       "      <th>TOURS_humidity</th>\n",
       "      <th>TOURS_pressure</th>\n",
       "      <th>TOURS_global_radiation</th>\n",
       "      <th>TOURS_precipitation</th>\n",
       "      <th>TOURS_temp_mean</th>\n",
       "      <th>TOURS_temp_min</th>\n",
       "      <th>TOURS_temp_max</th>\n",
       "    </tr>\n",
       "  </thead>\n",
       "  <tbody>\n",
       "    <tr>\n",
       "      <th>0</th>\n",
       "      <td>20000101</td>\n",
       "      <td>1</td>\n",
       "      <td>8</td>\n",
       "      <td>0.89</td>\n",
       "      <td>1.0286</td>\n",
       "      <td>0.20</td>\n",
       "      <td>0.03</td>\n",
       "      <td>0.0</td>\n",
       "      <td>2.9</td>\n",
       "      <td>1.6</td>\n",
       "      <td>...</td>\n",
       "      <td>-15.2</td>\n",
       "      <td>-17.0</td>\n",
       "      <td>-13.4</td>\n",
       "      <td>0.97</td>\n",
       "      <td>1.0275</td>\n",
       "      <td>0.25</td>\n",
       "      <td>0.04</td>\n",
       "      <td>8.5</td>\n",
       "      <td>7.2</td>\n",
       "      <td>9.8</td>\n",
       "    </tr>\n",
       "    <tr>\n",
       "      <th>1</th>\n",
       "      <td>20000102</td>\n",
       "      <td>1</td>\n",
       "      <td>8</td>\n",
       "      <td>0.87</td>\n",
       "      <td>1.0318</td>\n",
       "      <td>0.25</td>\n",
       "      <td>0.00</td>\n",
       "      <td>0.0</td>\n",
       "      <td>3.6</td>\n",
       "      <td>2.7</td>\n",
       "      <td>...</td>\n",
       "      <td>-13.7</td>\n",
       "      <td>-15.0</td>\n",
       "      <td>-12.3</td>\n",
       "      <td>0.99</td>\n",
       "      <td>1.0293</td>\n",
       "      <td>0.17</td>\n",
       "      <td>0.16</td>\n",
       "      <td>7.9</td>\n",
       "      <td>6.6</td>\n",
       "      <td>9.2</td>\n",
       "    </tr>\n",
       "    <tr>\n",
       "      <th>2</th>\n",
       "      <td>20000103</td>\n",
       "      <td>1</td>\n",
       "      <td>5</td>\n",
       "      <td>0.81</td>\n",
       "      <td>1.0314</td>\n",
       "      <td>0.50</td>\n",
       "      <td>0.00</td>\n",
       "      <td>3.7</td>\n",
       "      <td>2.2</td>\n",
       "      <td>0.1</td>\n",
       "      <td>...</td>\n",
       "      <td>-9.2</td>\n",
       "      <td>-12.5</td>\n",
       "      <td>-5.8</td>\n",
       "      <td>0.91</td>\n",
       "      <td>1.0267</td>\n",
       "      <td>0.27</td>\n",
       "      <td>0.00</td>\n",
       "      <td>8.1</td>\n",
       "      <td>6.6</td>\n",
       "      <td>9.6</td>\n",
       "    </tr>\n",
       "    <tr>\n",
       "      <th>3</th>\n",
       "      <td>20000104</td>\n",
       "      <td>1</td>\n",
       "      <td>7</td>\n",
       "      <td>0.79</td>\n",
       "      <td>1.0262</td>\n",
       "      <td>0.63</td>\n",
       "      <td>0.35</td>\n",
       "      <td>6.9</td>\n",
       "      <td>3.9</td>\n",
       "      <td>0.5</td>\n",
       "      <td>...</td>\n",
       "      <td>-5.6</td>\n",
       "      <td>-7.0</td>\n",
       "      <td>-4.2</td>\n",
       "      <td>0.95</td>\n",
       "      <td>1.0222</td>\n",
       "      <td>0.11</td>\n",
       "      <td>0.44</td>\n",
       "      <td>8.6</td>\n",
       "      <td>6.4</td>\n",
       "      <td>10.8</td>\n",
       "    </tr>\n",
       "    <tr>\n",
       "      <th>4</th>\n",
       "      <td>20000105</td>\n",
       "      <td>1</td>\n",
       "      <td>5</td>\n",
       "      <td>0.90</td>\n",
       "      <td>1.0246</td>\n",
       "      <td>0.51</td>\n",
       "      <td>0.07</td>\n",
       "      <td>3.7</td>\n",
       "      <td>6.0</td>\n",
       "      <td>3.8</td>\n",
       "      <td>...</td>\n",
       "      <td>-7.6</td>\n",
       "      <td>-9.4</td>\n",
       "      <td>-5.8</td>\n",
       "      <td>0.95</td>\n",
       "      <td>1.0209</td>\n",
       "      <td>0.39</td>\n",
       "      <td>0.04</td>\n",
       "      <td>8.0</td>\n",
       "      <td>6.4</td>\n",
       "      <td>9.5</td>\n",
       "    </tr>\n",
       "    <tr>\n",
       "      <th>...</th>\n",
       "      <td>...</td>\n",
       "      <td>...</td>\n",
       "      <td>...</td>\n",
       "      <td>...</td>\n",
       "      <td>...</td>\n",
       "      <td>...</td>\n",
       "      <td>...</td>\n",
       "      <td>...</td>\n",
       "      <td>...</td>\n",
       "      <td>...</td>\n",
       "      <td>...</td>\n",
       "      <td>...</td>\n",
       "      <td>...</td>\n",
       "      <td>...</td>\n",
       "      <td>...</td>\n",
       "      <td>...</td>\n",
       "      <td>...</td>\n",
       "      <td>...</td>\n",
       "      <td>...</td>\n",
       "      <td>...</td>\n",
       "      <td>...</td>\n",
       "    </tr>\n",
       "    <tr>\n",
       "      <th>3649</th>\n",
       "      <td>20091228</td>\n",
       "      <td>12</td>\n",
       "      <td>7</td>\n",
       "      <td>0.82</td>\n",
       "      <td>1.0084</td>\n",
       "      <td>0.28</td>\n",
       "      <td>0.42</td>\n",
       "      <td>0.3</td>\n",
       "      <td>3.2</td>\n",
       "      <td>1.0</td>\n",
       "      <td>...</td>\n",
       "      <td>-15.1</td>\n",
       "      <td>-16.2</td>\n",
       "      <td>-14.0</td>\n",
       "      <td>0.95</td>\n",
       "      <td>1.0011</td>\n",
       "      <td>0.22</td>\n",
       "      <td>1.50</td>\n",
       "      <td>6.2</td>\n",
       "      <td>1.8</td>\n",
       "      <td>10.6</td>\n",
       "    </tr>\n",
       "    <tr>\n",
       "      <th>3650</th>\n",
       "      <td>20091229</td>\n",
       "      <td>12</td>\n",
       "      <td>7</td>\n",
       "      <td>0.92</td>\n",
       "      <td>1.0028</td>\n",
       "      <td>0.22</td>\n",
       "      <td>1.68</td>\n",
       "      <td>0.2</td>\n",
       "      <td>4.5</td>\n",
       "      <td>2.4</td>\n",
       "      <td>...</td>\n",
       "      <td>-10.9</td>\n",
       "      <td>-14.4</td>\n",
       "      <td>-7.3</td>\n",
       "      <td>0.89</td>\n",
       "      <td>0.9966</td>\n",
       "      <td>0.24</td>\n",
       "      <td>0.40</td>\n",
       "      <td>10.4</td>\n",
       "      <td>6.2</td>\n",
       "      <td>14.5</td>\n",
       "    </tr>\n",
       "    <tr>\n",
       "      <th>3651</th>\n",
       "      <td>20091230</td>\n",
       "      <td>12</td>\n",
       "      <td>8</td>\n",
       "      <td>0.92</td>\n",
       "      <td>0.9979</td>\n",
       "      <td>0.07</td>\n",
       "      <td>1.54</td>\n",
       "      <td>0.0</td>\n",
       "      <td>8.5</td>\n",
       "      <td>7.5</td>\n",
       "      <td>...</td>\n",
       "      <td>-6.6</td>\n",
       "      <td>-7.6</td>\n",
       "      <td>-5.6</td>\n",
       "      <td>0.88</td>\n",
       "      <td>0.9939</td>\n",
       "      <td>0.24</td>\n",
       "      <td>1.00</td>\n",
       "      <td>10.0</td>\n",
       "      <td>8.7</td>\n",
       "      <td>11.3</td>\n",
       "    </tr>\n",
       "    <tr>\n",
       "      <th>3652</th>\n",
       "      <td>20091231</td>\n",
       "      <td>12</td>\n",
       "      <td>7</td>\n",
       "      <td>0.93</td>\n",
       "      <td>0.9958</td>\n",
       "      <td>0.17</td>\n",
       "      <td>0.57</td>\n",
       "      <td>0.1</td>\n",
       "      <td>6.6</td>\n",
       "      <td>4.3</td>\n",
       "      <td>...</td>\n",
       "      <td>-7.2</td>\n",
       "      <td>-8.9</td>\n",
       "      <td>-5.4</td>\n",
       "      <td>0.88</td>\n",
       "      <td>0.9933</td>\n",
       "      <td>0.58</td>\n",
       "      <td>0.02</td>\n",
       "      <td>8.5</td>\n",
       "      <td>6.2</td>\n",
       "      <td>10.9</td>\n",
       "    </tr>\n",
       "    <tr>\n",
       "      <th>3653</th>\n",
       "      <td>20100101</td>\n",
       "      <td>1</td>\n",
       "      <td>8</td>\n",
       "      <td>0.93</td>\n",
       "      <td>0.9965</td>\n",
       "      <td>0.08</td>\n",
       "      <td>0.56</td>\n",
       "      <td>0.0</td>\n",
       "      <td>2.9</td>\n",
       "      <td>-0.2</td>\n",
       "      <td>...</td>\n",
       "      <td>-9.7</td>\n",
       "      <td>-11.5</td>\n",
       "      <td>-7.9</td>\n",
       "      <td>0.86</td>\n",
       "      <td>1.0040</td>\n",
       "      <td>0.11</td>\n",
       "      <td>0.00</td>\n",
       "      <td>0.5</td>\n",
       "      <td>-0.7</td>\n",
       "      <td>1.8</td>\n",
       "    </tr>\n",
       "  </tbody>\n",
       "</table>\n",
       "<p>3654 rows × 91 columns</p>\n",
       "</div>"
      ],
      "text/plain": [
       "          DATE  MONTH  BASEL_cloud_cover  BASEL_humidity  BASEL_pressure  \\\n",
       "0     20000101      1                  8            0.89          1.0286   \n",
       "1     20000102      1                  8            0.87          1.0318   \n",
       "2     20000103      1                  5            0.81          1.0314   \n",
       "3     20000104      1                  7            0.79          1.0262   \n",
       "4     20000105      1                  5            0.90          1.0246   \n",
       "...        ...    ...                ...             ...             ...   \n",
       "3649  20091228     12                  7            0.82          1.0084   \n",
       "3650  20091229     12                  7            0.92          1.0028   \n",
       "3651  20091230     12                  8            0.92          0.9979   \n",
       "3652  20091231     12                  7            0.93          0.9958   \n",
       "3653  20100101      1                  8            0.93          0.9965   \n",
       "\n",
       "      BASEL_global_radiation  BASEL_precipitation  BASEL_sunshine  \\\n",
       "0                       0.20                 0.03             0.0   \n",
       "1                       0.25                 0.00             0.0   \n",
       "2                       0.50                 0.00             3.7   \n",
       "3                       0.63                 0.35             6.9   \n",
       "4                       0.51                 0.07             3.7   \n",
       "...                      ...                  ...             ...   \n",
       "3649                    0.28                 0.42             0.3   \n",
       "3650                    0.22                 1.68             0.2   \n",
       "3651                    0.07                 1.54             0.0   \n",
       "3652                    0.17                 0.57             0.1   \n",
       "3653                    0.08                 0.56             0.0   \n",
       "\n",
       "      BASEL_temp_mean  BASEL_temp_min  ...  SONNBLICK_temp_mean  \\\n",
       "0                 2.9             1.6  ...                -15.2   \n",
       "1                 3.6             2.7  ...                -13.7   \n",
       "2                 2.2             0.1  ...                 -9.2   \n",
       "3                 3.9             0.5  ...                 -5.6   \n",
       "4                 6.0             3.8  ...                 -7.6   \n",
       "...               ...             ...  ...                  ...   \n",
       "3649              3.2             1.0  ...                -15.1   \n",
       "3650              4.5             2.4  ...                -10.9   \n",
       "3651              8.5             7.5  ...                 -6.6   \n",
       "3652              6.6             4.3  ...                 -7.2   \n",
       "3653              2.9            -0.2  ...                 -9.7   \n",
       "\n",
       "      SONNBLICK_temp_min  SONNBLICK_temp_max  TOURS_humidity  TOURS_pressure  \\\n",
       "0                  -17.0               -13.4            0.97          1.0275   \n",
       "1                  -15.0               -12.3            0.99          1.0293   \n",
       "2                  -12.5                -5.8            0.91          1.0267   \n",
       "3                   -7.0                -4.2            0.95          1.0222   \n",
       "4                   -9.4                -5.8            0.95          1.0209   \n",
       "...                  ...                 ...             ...             ...   \n",
       "3649               -16.2               -14.0            0.95          1.0011   \n",
       "3650               -14.4                -7.3            0.89          0.9966   \n",
       "3651                -7.6                -5.6            0.88          0.9939   \n",
       "3652                -8.9                -5.4            0.88          0.9933   \n",
       "3653               -11.5                -7.9            0.86          1.0040   \n",
       "\n",
       "      TOURS_global_radiation  TOURS_precipitation  TOURS_temp_mean  \\\n",
       "0                       0.25                 0.04              8.5   \n",
       "1                       0.17                 0.16              7.9   \n",
       "2                       0.27                 0.00              8.1   \n",
       "3                       0.11                 0.44              8.6   \n",
       "4                       0.39                 0.04              8.0   \n",
       "...                      ...                  ...              ...   \n",
       "3649                    0.22                 1.50              6.2   \n",
       "3650                    0.24                 0.40             10.4   \n",
       "3651                    0.24                 1.00             10.0   \n",
       "3652                    0.58                 0.02              8.5   \n",
       "3653                    0.11                 0.00              0.5   \n",
       "\n",
       "      TOURS_temp_min  TOURS_temp_max  \n",
       "0                7.2             9.8  \n",
       "1                6.6             9.2  \n",
       "2                6.6             9.6  \n",
       "3                6.4            10.8  \n",
       "4                6.4             9.5  \n",
       "...              ...             ...  \n",
       "3649             1.8            10.6  \n",
       "3650             6.2            14.5  \n",
       "3651             8.7            11.3  \n",
       "3652             6.2            10.9  \n",
       "3653            -0.7             1.8  \n",
       "\n",
       "[3654 rows x 91 columns]"
      ]
     },
     "execution_count": 7,
     "metadata": {},
     "output_type": "execute_result"
    }
   ],
   "source": [
    "data"
   ]
  },
  {
   "cell_type": "code",
   "execution_count": 8,
   "id": "fbcbc88c-18cd-4d09-b7d9-0c317bd779ca",
   "metadata": {},
   "outputs": [
    {
     "data": {
      "text/plain": [
       "(3654, 91)"
      ]
     },
     "execution_count": 8,
     "metadata": {},
     "output_type": "execute_result"
    }
   ],
   "source": [
    "data.shape"
   ]
  },
  {
   "cell_type": "code",
   "execution_count": 10,
   "id": "1fb72d78-b4af-4a1a-a056-f614d4d0e138",
   "metadata": {},
   "outputs": [
    {
     "data": {
      "text/plain": [
       "Index(['DATE', 'MONTH', 'BASEL_cloud_cover', 'BASEL_humidity',\n",
       "       'BASEL_pressure', 'BASEL_global_radiation', 'BASEL_precipitation',\n",
       "       'BASEL_sunshine', 'BASEL_temp_mean', 'BASEL_temp_min', 'BASEL_temp_max',\n",
       "       'DE_BILT_cloud_cover', 'DE_BILT_humidity', 'DE_BILT_pressure',\n",
       "       'DE_BILT_global_radiation', 'DE_BILT_precipitation', 'DE_BILT_sunshine',\n",
       "       'DE_BILT_temp_mean', 'DE_BILT_temp_min', 'DE_BILT_temp_max',\n",
       "       'DRESDEN_cloud_cover', 'DRESDEN_humidity', 'DRESDEN_global_radiation',\n",
       "       'DRESDEN_precipitation', 'DRESDEN_sunshine', 'DRESDEN_temp_mean',\n",
       "       'DRESDEN_temp_min', 'DRESDEN_temp_max', 'DUSSELDORF_cloud_cover',\n",
       "       'DUSSELDORF_humidity', 'DUSSELDORF_pressure',\n",
       "       'DUSSELDORF_global_radiation', 'DUSSELDORF_precipitation',\n",
       "       'DUSSELDORF_sunshine', 'DUSSELDORF_temp_mean', 'DUSSELDORF_temp_min',\n",
       "       'DUSSELDORF_temp_max', 'HEATHROW_cloud_cover', 'HEATHROW_humidity',\n",
       "       'HEATHROW_pressure', 'HEATHROW_global_radiation',\n",
       "       'HEATHROW_precipitation', 'HEATHROW_sunshine', 'HEATHROW_temp_mean',\n",
       "       'HEATHROW_temp_min', 'HEATHROW_temp_max', 'KASSEL_humidity',\n",
       "       'KASSEL_pressure', 'KASSEL_global_radiation', 'KASSEL_precipitation',\n",
       "       'KASSEL_sunshine', 'KASSEL_temp_mean', 'KASSEL_temp_min',\n",
       "       'KASSEL_temp_max', 'MAASTRICHT_cloud_cover', 'MAASTRICHT_humidity',\n",
       "       'MAASTRICHT_pressure', 'MAASTRICHT_global_radiation',\n",
       "       'MAASTRICHT_precipitation', 'MAASTRICHT_sunshine',\n",
       "       'MAASTRICHT_temp_mean', 'MAASTRICHT_temp_min', 'MAASTRICHT_temp_max',\n",
       "       'MALMO_precipitation', 'MALMO_temp_mean', 'MALMO_temp_min',\n",
       "       'MALMO_temp_max', 'MUENCHEN_cloud_cover', 'MUENCHEN_humidity',\n",
       "       'MUENCHEN_pressure', 'MUENCHEN_global_radiation',\n",
       "       'MUENCHEN_precipitation', 'MUENCHEN_sunshine', 'MUENCHEN_temp_mean',\n",
       "       'MUENCHEN_temp_min', 'MUENCHEN_temp_max', 'SONNBLICK_cloud_cover',\n",
       "       'SONNBLICK_humidity', 'SONNBLICK_global_radiation',\n",
       "       'SONNBLICK_precipitation', 'SONNBLICK_sunshine', 'SONNBLICK_temp_mean',\n",
       "       'SONNBLICK_temp_min', 'SONNBLICK_temp_max', 'TOURS_humidity',\n",
       "       'TOURS_pressure', 'TOURS_global_radiation', 'TOURS_precipitation',\n",
       "       'TOURS_temp_mean', 'TOURS_temp_min', 'TOURS_temp_max'],\n",
       "      dtype='object')"
      ]
     },
     "execution_count": 10,
     "metadata": {},
     "output_type": "execute_result"
    }
   ],
   "source": [
    "data.columns"
   ]
  },
  {
   "cell_type": "code",
   "execution_count": 15,
   "id": "222e2ab6-5254-4353-80a7-b6d35f4ac809",
   "metadata": {},
   "outputs": [],
   "source": [
    "measurements = set()\n",
    "import string\n",
    "for x in data.columns:\n",
    "    if x not in ['DATE', 'MONTH']:\n",
    "        measure = x.lstrip(string.ascii_uppercase + '_')\n",
    "        measurements.add(measure)"
   ]
  },
  {
   "cell_type": "code",
   "execution_count": 16,
   "id": "59b75d7b-9ca4-4ac9-b139-6dee1c02f146",
   "metadata": {},
   "outputs": [
    {
     "name": "stdout",
     "output_type": "stream",
     "text": [
      "{'precipitation', 'pressure', 'temp_min', 'temp_mean', 'humidity', 'cloud_cover', 'sunshine', 'global_radiation', 'temp_max'}\n"
     ]
    }
   ],
   "source": [
    "print(measurements)"
   ]
  },
  {
   "cell_type": "code",
   "execution_count": 17,
   "id": "d0d16a28-9f0c-498e-af18-eaf52b259528",
   "metadata": {},
   "outputs": [
    {
     "data": {
      "text/plain": [
       "9"
      ]
     },
     "execution_count": 17,
     "metadata": {},
     "output_type": "execute_result"
    }
   ],
   "source": [
    "len(measurements)"
   ]
  },
  {
   "cell_type": "code",
   "execution_count": 18,
   "id": "580bf286-d8e3-48c1-897f-b2ed0ecac99c",
   "metadata": {},
   "outputs": [
    {
     "data": {
      "text/plain": [
       "<AxesSubplot: xlabel='Day', ylabel='BASEL sunshine hours'>"
      ]
     },
     "execution_count": 18,
     "metadata": {},
     "output_type": "execute_result"
    },
    {
     "data": {
      "image/png": "[encoded data removed]",
      "text/plain": [
       "<Figure size 640x480 with 1 Axes>"
      ]
     },
     "metadata": {},
     "output_type": "display_data"
    }
   ],
   "source": [
    "data.iloc[:365]['BASEL_sunshine'].plot(xlabel='Day', ylabel='BASEL sunshine hours')"
   ]
  },
  {
   "cell_type": "markdown",
   "id": "6480cb78-ec47-430f-a75e-431ee8c5c4dd",
   "metadata": {},
   "source": [
    "# 3. Prepare data"
   ]
  },
  {
   "cell_type": "code",
   "execution_count": 19,
   "id": "376dab2e-0308-4aa0-a6e6-cc3863e61e28",
   "metadata": {},
   "outputs": [],
   "source": [
    "nr_rows = 365*3"
   ]
  },
  {
   "cell_type": "code",
   "execution_count": 21,
   "id": "5cbe5241-5111-48dc-92a6-ff817432ef98",
   "metadata": {},
   "outputs": [],
   "source": [
    "X_data = data.loc[0:nr_rows].drop(columns=['DATE', 'MONTH'])"
   ]
  },
  {
   "cell_type": "code",
   "execution_count": 22,
   "id": "ce198f4f-0978-4413-9036-8e40642dfe6c",
   "metadata": {},
   "outputs": [
    {
     "data": {
      "text/html": [
       "<div>\n",
       "<style scoped>\n",
       "    .dataframe tbody tr th:only-of-type {\n",
       "        vertical-align: middle;\n",
       "    }\n",
       "\n",
       "    .dataframe tbody tr th {\n",
       "        vertical-align: top;\n",
       "    }\n",
       "\n",
       "    .dataframe thead th {\n",
       "        text-align: right;\n",
       "    }\n",
       "</style>\n",
       "<table border=\"1\" class=\"dataframe\">\n",
       "  <thead>\n",
       "    <tr style=\"text-align: right;\">\n",
       "      <th></th>\n",
       "      <th>BASEL_cloud_cover</th>\n",
       "      <th>BASEL_humidity</th>\n",
       "      <th>BASEL_pressure</th>\n",
       "      <th>BASEL_global_radiation</th>\n",
       "      <th>BASEL_precipitation</th>\n",
       "      <th>BASEL_sunshine</th>\n",
       "      <th>BASEL_temp_mean</th>\n",
       "      <th>BASEL_temp_min</th>\n",
       "      <th>BASEL_temp_max</th>\n",
       "      <th>DE_BILT_cloud_cover</th>\n",
       "      <th>...</th>\n",
       "      <th>SONNBLICK_temp_mean</th>\n",
       "      <th>SONNBLICK_temp_min</th>\n",
       "      <th>SONNBLICK_temp_max</th>\n",
       "      <th>TOURS_humidity</th>\n",
       "      <th>TOURS_pressure</th>\n",
       "      <th>TOURS_global_radiation</th>\n",
       "      <th>TOURS_precipitation</th>\n",
       "      <th>TOURS_temp_mean</th>\n",
       "      <th>TOURS_temp_min</th>\n",
       "      <th>TOURS_temp_max</th>\n",
       "    </tr>\n",
       "  </thead>\n",
       "  <tbody>\n",
       "    <tr>\n",
       "      <th>0</th>\n",
       "      <td>8</td>\n",
       "      <td>0.89</td>\n",
       "      <td>1.0286</td>\n",
       "      <td>0.20</td>\n",
       "      <td>0.03</td>\n",
       "      <td>0.0</td>\n",
       "      <td>2.9</td>\n",
       "      <td>1.6</td>\n",
       "      <td>3.9</td>\n",
       "      <td>7</td>\n",
       "      <td>...</td>\n",
       "      <td>-15.2</td>\n",
       "      <td>-17.0</td>\n",
       "      <td>-13.4</td>\n",
       "      <td>0.97</td>\n",
       "      <td>1.0275</td>\n",
       "      <td>0.25</td>\n",
       "      <td>0.04</td>\n",
       "      <td>8.5</td>\n",
       "      <td>7.2</td>\n",
       "      <td>9.8</td>\n",
       "    </tr>\n",
       "    <tr>\n",
       "      <th>1</th>\n",
       "      <td>8</td>\n",
       "      <td>0.87</td>\n",
       "      <td>1.0318</td>\n",
       "      <td>0.25</td>\n",
       "      <td>0.00</td>\n",
       "      <td>0.0</td>\n",
       "      <td>3.6</td>\n",
       "      <td>2.7</td>\n",
       "      <td>4.8</td>\n",
       "      <td>8</td>\n",
       "      <td>...</td>\n",
       "      <td>-13.7</td>\n",
       "      <td>-15.0</td>\n",
       "      <td>-12.3</td>\n",
       "      <td>0.99</td>\n",
       "      <td>1.0293</td>\n",
       "      <td>0.17</td>\n",
       "      <td>0.16</td>\n",
       "      <td>7.9</td>\n",
       "      <td>6.6</td>\n",
       "      <td>9.2</td>\n",
       "    </tr>\n",
       "    <tr>\n",
       "      <th>2</th>\n",
       "      <td>5</td>\n",
       "      <td>0.81</td>\n",
       "      <td>1.0314</td>\n",
       "      <td>0.50</td>\n",
       "      <td>0.00</td>\n",
       "      <td>3.7</td>\n",
       "      <td>2.2</td>\n",
       "      <td>0.1</td>\n",
       "      <td>4.8</td>\n",
       "      <td>8</td>\n",
       "      <td>...</td>\n",
       "      <td>-9.2</td>\n",
       "      <td>-12.5</td>\n",
       "      <td>-5.8</td>\n",
       "      <td>0.91</td>\n",
       "      <td>1.0267</td>\n",
       "      <td>0.27</td>\n",
       "      <td>0.00</td>\n",
       "      <td>8.1</td>\n",
       "      <td>6.6</td>\n",
       "      <td>9.6</td>\n",
       "    </tr>\n",
       "    <tr>\n",
       "      <th>3</th>\n",
       "      <td>7</td>\n",
       "      <td>0.79</td>\n",
       "      <td>1.0262</td>\n",
       "      <td>0.63</td>\n",
       "      <td>0.35</td>\n",
       "      <td>6.9</td>\n",
       "      <td>3.9</td>\n",
       "      <td>0.5</td>\n",
       "      <td>7.5</td>\n",
       "      <td>7</td>\n",
       "      <td>...</td>\n",
       "      <td>-5.6</td>\n",
       "      <td>-7.0</td>\n",
       "      <td>-4.2</td>\n",
       "      <td>0.95</td>\n",
       "      <td>1.0222</td>\n",
       "      <td>0.11</td>\n",
       "      <td>0.44</td>\n",
       "      <td>8.6</td>\n",
       "      <td>6.4</td>\n",
       "      <td>10.8</td>\n",
       "    </tr>\n",
       "    <tr>\n",
       "      <th>4</th>\n",
       "      <td>5</td>\n",
       "      <td>0.90</td>\n",
       "      <td>1.0246</td>\n",
       "      <td>0.51</td>\n",
       "      <td>0.07</td>\n",
       "      <td>3.7</td>\n",
       "      <td>6.0</td>\n",
       "      <td>3.8</td>\n",
       "      <td>8.6</td>\n",
       "      <td>3</td>\n",
       "      <td>...</td>\n",
       "      <td>-7.6</td>\n",
       "      <td>-9.4</td>\n",
       "      <td>-5.8</td>\n",
       "      <td>0.95</td>\n",
       "      <td>1.0209</td>\n",
       "      <td>0.39</td>\n",
       "      <td>0.04</td>\n",
       "      <td>8.0</td>\n",
       "      <td>6.4</td>\n",
       "      <td>9.5</td>\n",
       "    </tr>\n",
       "  </tbody>\n",
       "</table>\n",
       "<p>5 rows × 89 columns</p>\n",
       "</div>"
      ],
      "text/plain": [
       "   BASEL_cloud_cover  BASEL_humidity  BASEL_pressure  BASEL_global_radiation  \\\n",
       "0                  8            0.89          1.0286                    0.20   \n",
       "1                  8            0.87          1.0318                    0.25   \n",
       "2                  5            0.81          1.0314                    0.50   \n",
       "3                  7            0.79          1.0262                    0.63   \n",
       "4                  5            0.90          1.0246                    0.51   \n",
       "\n",
       "   BASEL_precipitation  BASEL_sunshine  BASEL_temp_mean  BASEL_temp_min  \\\n",
       "0                 0.03             0.0              2.9             1.6   \n",
       "1                 0.00             0.0              3.6             2.7   \n",
       "2                 0.00             3.7              2.2             0.1   \n",
       "3                 0.35             6.9              3.9             0.5   \n",
       "4                 0.07             3.7              6.0             3.8   \n",
       "\n",
       "   BASEL_temp_max  DE_BILT_cloud_cover  ...  SONNBLICK_temp_mean  \\\n",
       "0             3.9                    7  ...                -15.2   \n",
       "1             4.8                    8  ...                -13.7   \n",
       "2             4.8                    8  ...                 -9.2   \n",
       "3             7.5                    7  ...                 -5.6   \n",
       "4             8.6                    3  ...                 -7.6   \n",
       "\n",
       "   SONNBLICK_temp_min  SONNBLICK_temp_max  TOURS_humidity  TOURS_pressure  \\\n",
       "0               -17.0               -13.4            0.97          1.0275   \n",
       "1               -15.0               -12.3            0.99          1.0293   \n",
       "2               -12.5                -5.8            0.91          1.0267   \n",
       "3                -7.0                -4.2            0.95          1.0222   \n",
       "4                -9.4                -5.8            0.95          1.0209   \n",
       "\n",
       "   TOURS_global_radiation  TOURS_precipitation  TOURS_temp_mean  \\\n",
       "0                    0.25                 0.04              8.5   \n",
       "1                    0.17                 0.16              7.9   \n",
       "2                    0.27                 0.00              8.1   \n",
       "3                    0.11                 0.44              8.6   \n",
       "4                    0.39                 0.04              8.0   \n",
       "\n",
       "   TOURS_temp_min  TOURS_temp_max  \n",
       "0             7.2             9.8  \n",
       "1             6.6             9.2  \n",
       "2             6.6             9.6  \n",
       "3             6.4            10.8  \n",
       "4             6.4             9.5  \n",
       "\n",
       "[5 rows x 89 columns]"
      ]
     },
     "execution_count": 22,
     "metadata": {},
     "output_type": "execute_result"
    }
   ],
   "source": [
    "X_data.head()"
   ]
  },
  {
   "cell_type": "code",
   "execution_count": 23,
   "id": "7d6dec69-cc56-4f9c-b1df-da3a6990d4db",
   "metadata": {},
   "outputs": [
    {
     "data": {
      "text/plain": [
       "(1096, 89)"
      ]
     },
     "execution_count": 23,
     "metadata": {},
     "output_type": "execute_result"
    }
   ],
   "source": [
    "X_data.shape"
   ]
  },
  {
   "cell_type": "code",
   "execution_count": 24,
   "id": "8ab5e241-22f1-4d28-a953-a51368554ecf",
   "metadata": {},
   "outputs": [],
   "source": [
    "y_data = data.loc[1:(nr_rows+1)]['BASEL_sunshine']"
   ]
  },
  {
   "cell_type": "code",
   "execution_count": 25,
   "id": "bcecc91a-7c19-4365-8d87-fa978b34f11d",
   "metadata": {},
   "outputs": [
    {
     "data": {
      "text/plain": [
       "(1096,)"
      ]
     },
     "execution_count": 25,
     "metadata": {},
     "output_type": "execute_result"
    }
   ],
   "source": [
    "y_data.shape"
   ]
  },
  {
   "cell_type": "code",
   "execution_count": 26,
   "id": "17b10daa-b605-4655-9e4e-213f15b63f4c",
   "metadata": {},
   "outputs": [
    {
     "data": {
      "text/plain": [
       "1    0.0\n",
       "2    3.7\n",
       "3    6.9\n",
       "4    3.7\n",
       "5    5.7\n",
       "Name: BASEL_sunshine, dtype: float64"
      ]
     },
     "execution_count": 26,
     "metadata": {},
     "output_type": "execute_result"
    }
   ],
   "source": [
    "y_data.head()"
   ]
  },
  {
   "cell_type": "markdown",
   "id": "ea7c9659-e4a2-4ae3-865e-dbf6e482a920",
   "metadata": {},
   "source": [
    "## Split data to training, validation and test sets"
   ]
  },
  {
   "cell_type": "code",
   "execution_count": 33,
   "id": "50bfe1b0-6040-4eff-8707-9b29c6b42b73",
   "metadata": {},
   "outputs": [],
   "source": [
    "from sklearn.model_selection import train_test_split"
   ]
  },
  {
   "cell_type": "code",
   "execution_count": 34,
   "id": "c2b1059a-0d71-4d40-ba29-fc6563c0d061",
   "metadata": {},
   "outputs": [],
   "source": [
    "X_train, X_holdout, y_train, y_holdout = train_test_split(X_data, y_data, test_size=0.3, random_state=0)"
   ]
  },
  {
   "cell_type": "code",
   "execution_count": 35,
   "id": "50908f69-6883-4c0f-a6dc-6e20c7e9920e",
   "metadata": {},
   "outputs": [],
   "source": [
    "X_val, X_test, y_val, y_test = train_test_split(X_holdout, y_holdout, test_size=0.5, random_state=0)"
   ]
  },
  {
   "cell_type": "code",
   "execution_count": 36,
   "id": "2c38cbb2-6bb9-4a80-80d5-ae4cf7824f16",
   "metadata": {},
   "outputs": [
    {
     "data": {
      "text/plain": [
       "(767, 89)"
      ]
     },
     "execution_count": 36,
     "metadata": {},
     "output_type": "execute_result"
    }
   ],
   "source": [
    "X_train.shape"
   ]
  },
  {
   "cell_type": "code",
   "execution_count": 37,
   "id": "d339df13-9851-47c1-a617-6b1ba25f1f74",
   "metadata": {},
   "outputs": [
    {
     "data": {
      "text/plain": [
       "(164, 89)"
      ]
     },
     "execution_count": 37,
     "metadata": {},
     "output_type": "execute_result"
    }
   ],
   "source": [
    "X_val.shape"
   ]
  },
  {
   "cell_type": "code",
   "execution_count": 38,
   "id": "800013b4-835e-45e3-9a81-d882d2953d60",
   "metadata": {},
   "outputs": [
    {
     "data": {
      "text/plain": [
       "(165, 89)"
      ]
     },
     "execution_count": 38,
     "metadata": {},
     "output_type": "execute_result"
    }
   ],
   "source": [
    "X_test.shape"
   ]
  },
  {
   "cell_type": "code",
   "execution_count": 39,
   "id": "256000b8-f28a-4987-9c49-a03ecbdce492",
   "metadata": {},
   "outputs": [
    {
     "data": {
      "text/plain": [
       "(767,)"
      ]
     },
     "execution_count": 39,
     "metadata": {},
     "output_type": "execute_result"
    }
   ],
   "source": [
    "y_train.shape"
   ]
  },
  {
   "cell_type": "code",
   "execution_count": 40,
   "id": "368c6bbe-53e8-445d-a31a-74aca22760e2",
   "metadata": {},
   "outputs": [
    {
     "data": {
      "text/plain": [
       "(164,)"
      ]
     },
     "execution_count": 40,
     "metadata": {},
     "output_type": "execute_result"
    }
   ],
   "source": [
    "y_val.shape"
   ]
  },
  {
   "cell_type": "code",
   "execution_count": 41,
   "id": "25b20629-fd0c-482a-81c7-a4de7698d69a",
   "metadata": {},
   "outputs": [
    {
     "data": {
      "text/plain": [
       "(165,)"
      ]
     },
     "execution_count": 41,
     "metadata": {},
     "output_type": "execute_result"
    }
   ],
   "source": [
    "y_test.shape"
   ]
  },
  {
   "cell_type": "markdown",
   "id": "85a9820a-cdaf-4876-8567-2d489fb938dd",
   "metadata": {},
   "source": [
    "# 4. Build architecture or use a pretrained model"
   ]
  },
  {
   "cell_type": "code",
   "execution_count": 44,
   "id": "9bb84f45-e9f0-49fc-8554-bcd1c2d9d3c4",
   "metadata": {},
   "outputs": [],
   "source": [
    "from tensorflow import keras"
   ]
  },
  {
   "cell_type": "code",
   "execution_count": 57,
   "id": "38c6b34f-0e06-424d-b8f9-8e0c4fc60a9a",
   "metadata": {},
   "outputs": [],
   "source": [
    "def create_nn():\n",
    "    # input layer\n",
    "    inputs = keras.Input(shape=(X_train.shape[1],), name='input')\n",
    "    \n",
    "    # Dense layers\n",
    "    layers_dense = keras.layers.Dense(100, 'relu', name='1st_hidden_layer')(inputs)\n",
    "    layers_dense = keras.layers.Dense(50, 'relu', name='2nd_hidden_layer')(layers_dense)\n",
    "    \n",
    "    # Output layer\n",
    "    outputs = keras.layers.Dense(1, name='output_layer')(layers_dense)\n",
    "    \n",
    "    # create model\n",
    "    model = keras.Model(inputs=inputs, outputs=outputs, name='weather_prediction_model')\n",
    "    \n",
    "    return model"
   ]
  },
  {
   "cell_type": "code",
   "execution_count": 58,
   "id": "82cca151-2ad2-4cff-92bb-fd7f00bb1db3",
   "metadata": {},
   "outputs": [],
   "source": [
    "model = create_nn()"
   ]
  },
  {
   "cell_type": "code",
   "execution_count": 59,
   "id": "c1025af6-022b-4b2a-8d13-6e191a087876",
   "metadata": {},
   "outputs": [
    {
     "name": "stdout",
     "output_type": "stream",
     "text": [
      "Model: \"weather_prediction_model\"\n",
      "_________________________________________________________________\n",
      " Layer (type)                Output Shape              Param #   \n",
      "=================================================================\n",
      " input (InputLayer)          [(None, 89)]              0         \n",
      "                                                                 \n",
      " 1st_hidden_layer (Dense)    (None, 100)               9000      \n",
      "                                                                 \n",
      " 2nd_hidden_layer (Dense)    (None, 50)                5050      \n",
      "                                                                 \n",
      " output_layer (Dense)        (None, 1)                 51        \n",
      "                                                                 \n",
      "=================================================================\n",
      "Total params: 14,101\n",
      "Trainable params: 14,101\n",
      "Non-trainable params: 0\n",
      "_________________________________________________________________\n"
     ]
    }
   ],
   "source": [
    "model.summary()"
   ]
  }
 ],
 "metadata": {
  "kernelspec": {
   "display_name": "Python 3 (ipykernel)",
   "language": "python",
   "name": "python3"
  },
  "language_info": {
   "codemirror_mode": {
    "name": "ipython",
    "version": 3
   },
   "file_extension": ".py",
   "mimetype": "text/x-python",
   "name": "python",
   "nbconvert_exporter": "python",
   "pygments_lexer": "ipython3",
   "version": "3.10.8"
  }
 },
 "nbformat": 4,
 "nbformat_minor": 5
}
